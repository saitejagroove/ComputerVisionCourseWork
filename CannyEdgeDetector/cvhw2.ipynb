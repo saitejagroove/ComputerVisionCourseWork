{
 "cells": [
  {
   "cell_type": "code",
   "execution_count": 116,
   "metadata": {},
   "outputs": [],
   "source": [
    "import numpy as np\n",
    "import cv2\n",
    "from scipy import ndimage\n",
    "from skimage.exposure import rescale_intensity\n",
    "from numpy import pi"
   ]
  },
  {
   "cell_type": "markdown",
   "metadata": {},
   "source": [
    "### Methods defined: Convolution, GaussianSmoothing, ImageGradient,NonMaximaSuppress, Thresholding, EdgeLinking"
   ]
  },
  {
   "cell_type": "code",
   "execution_count": 117,
   "metadata": {},
   "outputs": [],
   "source": [
    "#Convolution from smoothing from prev assignment\n",
    "def convolution(image, kernel):\n",
    "    '''\n",
    "    Convolution for RGB and Gray Images\n",
    "    Limited to Square kernel of odd length\n",
    "    '''\n",
    "    kernel = np.flipud(np.fliplr(kernel))\n",
    "    outputImage = np.zeros_like(image, dtype = \"float32\")\n",
    "    l = int((kernel.shape[0]-1)/2)\n",
    "    if len(image.shape) == 3:\n",
    "        for k in range(3):\n",
    "            timage = image[:,:,k]\n",
    "            imagePadded = np.zeros((timage.shape[0]+2*l,timage.shape[1]+2*l))\n",
    "            imagePadded[l:-l,l:-l] = timage\n",
    "            for j in range(timage.shape[1]):\n",
    "                for i in range(timage.shape[0]):\n",
    "                    (outputImage[:,:,k])[j,i]= (kernel*imagePadded[j-l:j+l,i-l:i+l]).sum()\n",
    "    else:\n",
    "        imagePadded = np.zeros((image.shape[0]+2*l,image.shape[1]+2*l))\n",
    "        imagePadded[l:-l,l:-l] = image\n",
    "        for j in range(image.shape[1]):\n",
    "            for i in range(image.shape[0]):\n",
    "                outputImage[j,i] = (kernel*imagePadded[j:j+2*l+1,i:i+2*l+1]).sum()\n",
    "    outputImage = rescale_intensity(outputImage, in_range=(0, 255))\n",
    "    outputImage = (outputImage*255).astype(\"uint8\")\n",
    "    return outputImage"
   ]
  },
  {
   "cell_type": "code",
   "execution_count": 118,
   "metadata": {},
   "outputs": [],
   "source": [
    "#Gaussian smoothing from prev assignment\n",
    "def GaussianSmoothing(image, kernel_size, sigma):\n",
    "    s = kernel_size//2\n",
    "    x, y = np.mgrid[-s:s+1,-s:s+1]\n",
    "    k = 1 / (2.0* pi * sigma**2)\n",
    "    guassianKernel = np.exp(-((x**2 + y**2)/(2.0*sigma**2)))*k\n",
    "    outputImage = convolution(image, guassianKernel)\n",
    "    return outputImage\n",
    "\n",
    "#We calculate XGradient and YGradient using \n",
    "def ImageGradient(smoothedImage):\n",
    "    y = np.array([[-1, 0, 1], [-2, 0, 2], [-1, 0, 1]])\n",
    "    x = np.array([[1, 2, 1], [0, 0, 0], [-1, -2,-1]])\n",
    "\n",
    "    yGradient = convolution(smoothedImage, y)\n",
    "    xGradient = convolution(smoothedImage, x)\n",
    "\n",
    "\n",
    "    mag = np.hypot(xGradient, yGradient) # calculated Hypotenuse of gradients\n",
    "    mag = (mag/mag.max()) \n",
    "    mag = mag.astype(\"float32\") \n",
    "    theta = np.arctan2(yGradient, xGradient) #calcuting angle/direction of vector\n",
    "    return (mag, theta)\n",
    "\n",
    "def NonmaximaSuppress(mag, theta):\n",
    "\n",
    "    # r = mag.shape[0]\n",
    "    # c = mag.shape[1]\n",
    "    r, c = mag.shape\n",
    "    outputMag = np.zeros_like(mag, dtype = \"float32\")\n",
    "    newTheta = mag\n",
    "    newTheta[newTheta<0] += pi\n",
    "    for x in range(1,r-1):\n",
    "        for y in range(1,c-1):\n",
    "            front,rear = 255,255\n",
    "            if (0<= newTheta[x][y] < pi/8.0) or (7*pi/8.0 <= newTheta[x][y] <= pi ):\n",
    "                front,rear = mag[x,y+1],mag[x,y-1]\n",
    "            elif (pi/8.0<= newTheta[x][y] < 3*pi/8.0):\n",
    "                front,rear = mag[x+1,y-1],mag[x-1,y+1]\n",
    "            elif (3*pi/8.0<= newTheta[x][y] < 5*pi/8.0):\n",
    "                front,rear = mag[x+1,y],mag[x-1,y]\n",
    "            elif (5*pi/8.0<= newTheta[x][y] < 7*pi/8.0):\n",
    "                front,rear = mag[x-1,y-1],mag[x+1,y+1]\n",
    "            if mag[x,y] >= front and mag[x,y] >= rear:\n",
    "                outputMag[x,y] = mag[x,y]\n",
    "            else:\n",
    "                outputMag[x,y] = 0\n",
    "    # outputMag = (outputMag/outputMag.max())\n",
    "    # outputMag = outputMag.astype(\"float32\")\n",
    "    return outputMag"
   ]
  },
  {
   "cell_type": "code",
   "execution_count": 119,
   "metadata": {},
   "outputs": [],
   "source": [
    "def Thresholding(mag, lowThreshold, highThreshold):\n",
    "    r = mag.shape[0]\n",
    "    c = mag.shape[1]\n",
    "    lowThreshold = mag.max()*lowThreshold\n",
    "    highThreshold = mag.max()*highThreshold\n",
    "    outputMagWeak = np.zeros_like(mag, dtype = \"float32\")\n",
    "    outputMagStrong = np.zeros_like(mag, dtype = \"float32\")\n",
    "    for x in range(0,r):\n",
    "        for y in range(0,c):\n",
    "            if(mag[x,y] > highThreshold):\n",
    "                outputMagStrong[x,y] = 1\n",
    "            elif (lowThreshold<= mag[x,y] <=highThreshold):\n",
    "                outputMagWeak[x,y] = 0.3922\n",
    "    # outputMagWeak = outputMagWeak.astype(\"uint8\")\n",
    "    # outputMagStrong = outputMagStrong.astype(\"uint8\")\n",
    "    return (outputMagWeak,outputMagStrong)\n",
    "\n",
    "def edgeLinking(Mag_weak, Mag_strong):\n",
    "    r = Mag_weak.shape[0]\n",
    "    c = Mag_weak.shape[1]\n",
    "    outputMag = Mag_strong[:,:]\n",
    "    \n",
    "    def recursivetraverse(x,y):\n",
    "        if(Mag_weak[x,y]!=0):\n",
    "            for i in range(-1,2):\n",
    "                for j in range(-1,2):\n",
    "                    if (Mag_strong[x+i,y+j]==0 and not(i==0 and j==0)):\n",
    "                        Mag_strong[x+i,y+j] = 1\n",
    "                        recursivetraverse(x+i,y+j)\n",
    "\n",
    "    for x in range(1,r-1):\n",
    "        for y in range(1,c-1):\n",
    "            if Mag_strong[x,y]:\n",
    "                Mag_strong[x,y] = 1\n",
    "                recursivetraverse(x,y)\n",
    "    outputMag = Mag_strong[:,:]\n",
    "    return outputMag"
   ]
  },
  {
   "cell_type": "markdown",
   "metadata": {},
   "source": [
    "### Working on Lena Image, with intermediate results shown"
   ]
  },
  {
   "cell_type": "code",
   "execution_count": 217,
   "metadata": {},
   "outputs": [],
   "source": [
    "\n",
    "# Reading the lena/Test image as Gray Scale\n",
    "im1 = cv2.imread(\"lena_gray.png\",cv2.IMREAD_GRAYSCALE)\n",
    "cv2.imshow('Orig',im1)\n",
    "cv2.waitKey(0)\n",
    "cv2.destroyAllWindows()"
   ]
  },
  {
   "cell_type": "code",
   "execution_count": 218,
   "metadata": {},
   "outputs": [],
   "source": [
    "\n",
    "blurImage = GaussianSmoothing(im1, 3,1.5)\n",
    "cv2.imshow('Blur',blurImage)\n",
    "cv2.waitKey(0)\n",
    "cv2.destroyAllWindows()"
   ]
  },
  {
   "cell_type": "code",
   "execution_count": 219,
   "metadata": {},
   "outputs": [],
   "source": [
    "(gradientImage, theta) = ImageGradient(blurImage)\n",
    "\n",
    "cv2.imshow('Gradient',np.float32(gradientImage))\n",
    "cv2.waitKey(0)\n",
    "cv2.destroyAllWindows()"
   ]
  },
  {
   "cell_type": "code",
   "execution_count": 220,
   "metadata": {},
   "outputs": [],
   "source": [
    "imnonmaximaSuppress = NonmaximaSuppress(gradientImage, theta)\n",
    "(MagWeak,MagStrong) = Thresholding(imnonmaximaSuppress, 0.02,0.08)\n",
    "cv2.imshow('NonmaximaSuppress',imnonmaximaSuppress)\n",
    "cv2.waitKey(0)\n",
    "cv2.destroyAllWindows()"
   ]
  },
  {
   "cell_type": "code",
   "execution_count": 221,
   "metadata": {},
   "outputs": [],
   "source": [
    "imedgeLinking = edgeLinking(MagWeak, MagStrong)\n",
    "cv2.imshow('edgeLinking',imedgeLinking)\n",
    "cv2.waitKey(0)\n",
    "cv2.destroyAllWindows()"
   ]
  },
  {
   "cell_type": "code",
   "execution_count": null,
   "metadata": {},
   "outputs": [],
   "source": []
  }
 ],
 "metadata": {
  "kernelspec": {
   "display_name": "Python 3",
   "language": "python",
   "name": "python3"
  },
  "language_info": {
   "codemirror_mode": {
    "name": "ipython",
    "version": 3
   },
   "file_extension": ".py",
   "mimetype": "text/x-python",
   "name": "python",
   "nbconvert_exporter": "python",
   "pygments_lexer": "ipython3",
   "version": "3.7.4"
  }
 },
 "nbformat": 4,
 "nbformat_minor": 4
}
