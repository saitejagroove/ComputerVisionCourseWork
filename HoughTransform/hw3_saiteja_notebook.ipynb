{
 "cells": [
  {
   "cell_type": "code",
   "execution_count": 6,
   "metadata": {},
   "outputs": [],
   "source": [
    "import cv2\n",
    "import numpy as np\n",
    "from numpy import pi\n",
    "from math import hypot\n",
    "from skimage.exposure import rescale_intensity\n",
    "from scipy import ndimage"
   ]
  },
  {
   "cell_type": "code",
   "execution_count": 59,
   "metadata": {},
   "outputs": [],
   "source": [
    "def max_filter(image,size):\n",
    "    \"\"\"\n",
    "    Min Filter Over the image\n",
    "    \"\"\"\n",
    "    outputImage = np.zeros_like(image)\n",
    "    l = int((size-1)/2)\n",
    "    imagePadded = np.zeros((image.shape[0]+2*l,image.shape[1]+2*l))\n",
    "    imagePadded[l:-l,l:-l] = image\n",
    "    for i in range(image.shape[1]):\n",
    "        for j in range(image.shape[0]):\n",
    "            outputImage[j,i] = np.amax(imagePadded[j:j+2*l+1,i:i+2*l+1])\n",
    "    return outputImage\n",
    "\n",
    "def min_filter(image,size):\n",
    "    \"\"\"\n",
    "    Max Filter over the image\n",
    "    \"\"\"\n",
    "    outputImage = np.zeros_like(image)\n",
    "    l = int((size-1)/2)\n",
    "    imagePadded = np.zeros((image.shape[0]+2*l,image.shape[1]+2*l))\n",
    "    imagePadded[l:-l,l:-l] = image\n",
    "    for i in range(image.shape[1]):\n",
    "        for j in range(image.shape[0]):\n",
    "            outputImage[j,i] = np.amin(imagePadded[j:j+2*l+1,i:i+2*l+1])\n",
    "    return outputImage\n",
    "\n",
    "\n",
    "def lineDetection(image,rhoQuant,thetaQuant,threshold):\n",
    "    \"\"\"\n",
    "    A function for detecting lines in an image\n",
    "    \"\"\"\n",
    "    r,c = image.shape\n",
    "    edgeImage = cv2.Canny(image,75,175)\n",
    "    rhoMax = hypot(r,c)\n",
    "    accumulator = np.zeros((rhoQuant,thetaQuant))\n",
    "    for x in range(r):\n",
    "        for y in range(c):\n",
    "            if edgeImage[x,y] == 0: continue\n",
    "            for theta in range(thetaQuant):\n",
    "                thetaVal = (theta*pi/thetaQuant)\n",
    "                rhoVal = (x*np.cos(thetaVal) + y*np.sin(thetaVal))\n",
    "                rho = int((rhoQuant*rhoVal/rhoMax))\n",
    "                accumulator[rho,theta] += 1\n",
    "    houghOutput = rescale_intensity(accumulator, in_range=(0, 255))\n",
    "    houghOutput = (houghOutput*255).astype(\"uint8\")\n",
    "\n",
    "    maxHough = max_filter(accumulator,20)\n",
    "    maxBin = (maxHough == accumulator)\n",
    "    minHough = min_filter(accumulator,20)\n",
    "    houghDifference = ((maxHough-minHough)>threshold)\n",
    "    maxBin[houghDifference == 0] = 0\n",
    "    params = []\n",
    "    \n",
    "    for rho in range(rhoQuant):\n",
    "        for theta in range(thetaQuant):\n",
    "            if maxBin[rho,theta]:\n",
    "                params.append((rho,(pi/2 - theta*pi/thetaQuant)))\n",
    "\n",
    "    return params,houghOutput"
   ]
  },
  {
   "cell_type": "markdown",
   "metadata": {},
   "source": [
    "#### Testing on 3 different images"
   ]
  },
  {
   "cell_type": "code",
   "execution_count": 61,
   "metadata": {},
   "outputs": [],
   "source": [
    "t1Orig = cv2.imread(\"test.bmp\")\n",
    "t1BW = cv2.cvtColor(t1Orig, cv2.COLOR_BGR2GRAY)\n",
    "t2Orig = cv2.imread(\"test2.bmp\")\n",
    "t2BW = cv2.cvtColor(t2Orig, cv2.COLOR_BGR2GRAY)\n",
    "inOrg = cv2.imread(\"input.bmp\")\n",
    "inBW = cv2.cvtColor(inOrg, cv2.COLOR_BGR2GRAY)\n",
    "parameters,houghOutput = lineDetection(t1BW,360,480,50)\n",
    "\n",
    "for rho,theta in parameters:\n",
    "    a = np.cos(theta)\n",
    "    b = np.sin(theta)\n",
    "    x0 = a*rho\n",
    "    y0 = b*rho\n",
    "    x1 = int(x0 + 1000*(-b))\n",
    "    y1 = int(y0 + 1000*(a))\n",
    "    x2 = int(x0 - 1000*(-b))\n",
    "    y2 = int(y0 - 1000*(a))\n",
    "\n",
    "    cv2.line(t1Orig,(x1,y1),(x2,y2),(0,0,255),1)\n",
    "cv2.imwrite('a11.jpg', t1Orig)\n",
    "cv2.imwrite('a12.jpg', houghOutput)\n",
    "\n",
    "#We are writiing the output to files a11 and a12\n",
    "\n",
    "\n",
    "cv2.waitKey(0)\n",
    "cv2.destroyAllWindows()"
   ]
  },
  {
   "cell_type": "code",
   "execution_count": null,
   "metadata": {},
   "outputs": [],
   "source": []
  },
  {
   "cell_type": "code",
   "execution_count": null,
   "metadata": {},
   "outputs": [],
   "source": []
  }
 ],
 "metadata": {
  "kernelspec": {
   "display_name": "Python 3",
   "language": "python",
   "name": "python3"
  },
  "language_info": {
   "codemirror_mode": {
    "name": "ipython",
    "version": 3
   },
   "file_extension": ".py",
   "mimetype": "text/x-python",
   "name": "python",
   "nbconvert_exporter": "python",
   "pygments_lexer": "ipython3",
   "version": "3.7.4"
  }
 },
 "nbformat": 4,
 "nbformat_minor": 4
}
