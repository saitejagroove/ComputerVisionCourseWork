{
 "cells": [
  {
   "cell_type": "code",
   "execution_count": 15,
   "metadata": {},
   "outputs": [],
   "source": [
    "import cv2\n",
    "import numpy as np\n",
    "import scipy.stats as st\n",
    "import math\n",
    "\n",
    "#gaussian kernel creation \n",
    "def gkern(kernlen=21, nsig=3):\n",
    "    x = np.linspace(-nsig, nsig, kernlen+1)\n",
    "    kern1d = np.diff(st.norm.cdf(x))\n",
    "    kern2d = np.outer(kern1d, kern1d)\n",
    "    return kern2d/kern2d.sum()\n",
    "\n",
    "\n",
    "# Correlation fun (Image, Kernel , Kernel size, Padding, Number of channels)\n",
    "def corrfun(img,kernel,ksize=3,p=1,nc=1):\n",
    "    destimg = img\n",
    "    if nc >1:\n",
    "        for ch in range(nc):\n",
    "            for i in range(p,img.shape[0]-p):\n",
    "                for j in range(p,img.shape[1]-p):\n",
    "                    fval = 0\n",
    "                    k = math.floor(ksize/2)\n",
    "                    for lt in range (i-k,i+k+1):\n",
    "                        for wt in range (j-k,j+k+1):\n",
    "                            #print(fval,img[lt][wt],kernel[lt-i+k][wt-j+k])\n",
    "                            fval = fval + (img[lt][wt][ch])*(kernel[lt-i+k][wt-j+k])\n",
    "                    #print(fval)\n",
    "                    destimg[i][j][ch] = math.floor(fval)\n",
    "    else:\n",
    "        for ch in range(nc):\n",
    "            for i in range(p,img.shape[0]-p):\n",
    "                for j in range(p,img.shape[1]-p):\n",
    "                    fval = 0\n",
    "                    k = math.floor(ksize/2)\n",
    "                    for lt in range (i-k,i+k+1):\n",
    "                        for wt in range (j-k,j+k+1):\n",
    "                            #print(fval,img[lt][wt],kernel[lt-i+k][wt-j+k])\n",
    "                            fval = fval + (img[lt][wt])*(kernel[lt-i+k][wt-j+k])\n",
    "                    #print(fval)\n",
    "                    destimg[i][j] = math.floor(fval)\n",
    "            \n",
    "    return destimg\n",
    "\n",
    "# Convolution fun(inverted kernel) (Image, Kernel , Kernel size, Padding, Number of channels)\n",
    "def convfun(img,kernel,ksize=3,p=1,nc=1):\n",
    "    destimg = img\n",
    "    if nc >1: #channel based processing\n",
    "        for ch in range(nc):\n",
    "            for i in range(p,img.shape[0]-p):\n",
    "                for j in range(p,img.shape[1]-p):\n",
    "                    fval = 0\n",
    "                    k = math.floor(ksize/2)\n",
    "                    for lt in range (i-k,i+k+1):\n",
    "                        for wt in range (j-k,j+k+1):\n",
    "                            #print(fval,img[lt][wt],kernel[lt-i+k][wt-j+k])\n",
    "                            fval = fval + (img[lt][wt][ch])*(kernel[ksize-(lt-i+k)-1][ksize-(wt-j+k)-1])\n",
    "                    #print(fval)\n",
    "                    destimg[i][j][ch] = math.floor(fval)\n",
    "    else:\n",
    "        for ch in range(nc):\n",
    "            for i in range(p,img.shape[0]-p):\n",
    "                for j in range(p,img.shape[1]-p):\n",
    "                    fval = 0\n",
    "                    k = math.floor(ksize/2)\n",
    "                    for lt in range (i-k,i+k+1):\n",
    "                        for wt in range (j-k,j+k+1):\n",
    "                            #print(fval,img[lt][wt],kernel[lt-i+k][wt-j+k])\n",
    "                            fval = fval + (img[lt][wt])*(kernel[ksize-(lt-i+k)-1][ksize-(wt-j+k)-1])\n",
    "                    #print(fval)\n",
    "                    destimg[i][j] = math.floor(fval)\n",
    "            \n",
    "    return destimg\n",
    "\n",
    "\n",
    "# Median Filter (Image Filter size) \n",
    "def median_filter(data, filter_size):\n",
    "    temp = []\n",
    "    indexer = filter_size // 2\n",
    "    for i in range(len(data)):\n",
    "        for j in range(len(data[0])):\n",
    "            for z in range(filter_size):\n",
    "                if i + z - indexer < 0 or i + z - indexer > len(data) - 1:\n",
    "                    for c in range(filter_size):\n",
    "                        temp.append(0)\n",
    "                else:\n",
    "                    if j + z - indexer < 0 or j + indexer > len(data[0]) - 1:\n",
    "                        temp.append(0)\n",
    "                    else:\n",
    "                        for k in range(filter_size):\n",
    "                            temp.append(data[i + z - indexer][j + k - indexer])\n",
    "\n",
    "            temp.sort()\n",
    "            data[i][j] = temp[len(temp) // 2]\n",
    "            temp = []\n",
    "    return data"
   ]
  },
  {
   "cell_type": "markdown",
   "metadata": {},
   "source": [
    "## Part 1: Convolutions - Mean, Gaussian, Sharpening on Lena.png"
   ]
  },
  {
   "cell_type": "code",
   "execution_count": 16,
   "metadata": {},
   "outputs": [],
   "source": [
    "img = cv2.imread(\"lena.png\")"
   ]
  },
  {
   "cell_type": "code",
   "execution_count": 17,
   "metadata": {},
   "outputs": [],
   "source": [
    "cv2.imshow(\"Input image\",img)\n",
    "cv2.waitKey(0)\n",
    "cv2.destroyAllWindows()"
   ]
  },
  {
   "cell_type": "markdown",
   "metadata": {},
   "source": [
    "### Kernel size 3"
   ]
  },
  {
   "cell_type": "code",
   "execution_count": 112,
   "metadata": {},
   "outputs": [],
   "source": [
    "#preparing kernels\n",
    "avgkernel = np.ones((3, 3), dtype=np.float32)\n",
    "avgkernel /= 9\n",
    "gkernel = gkern(3,10)"
   ]
  },
  {
   "cell_type": "code",
   "execution_count": 113,
   "metadata": {},
   "outputs": [
    {
     "data": {
      "text/plain": [
       "(514, 514, 3)"
      ]
     },
     "execution_count": 113,
     "metadata": {},
     "output_type": "execute_result"
    }
   ],
   "source": [
    "pimg = np.zeros((512,512,3))\n",
    "pimg= cv2.copyMakeBorder(img,1,1,1,1,cv2.BORDER_CONSTANT,value=0) #Padding\n",
    "pimg.shape"
   ]
  },
  {
   "cell_type": "markdown",
   "metadata": {},
   "source": [
    "#### Mean filter with kernel size 3 on Lena"
   ]
  },
  {
   "cell_type": "code",
   "execution_count": 114,
   "metadata": {
    "scrolled": false
   },
   "outputs": [],
   "source": [
    "\n",
    "\n",
    "avgimg = corrfun(pimg, avgkernel, 3,1,3) #Corrfun mean\n",
    "cv2.imshow(\"avg img\",avgimg)\n",
    "cv2.waitKey(0)\n",
    "cv2.destroyAllWindows()"
   ]
  },
  {
   "cell_type": "markdown",
   "metadata": {},
   "source": [
    "#### Gaussian filter with kernel size 3 on Lena"
   ]
  },
  {
   "cell_type": "code",
   "execution_count": 115,
   "metadata": {},
   "outputs": [],
   "source": [
    "pimg= cv2.copyMakeBorder(img,1,1,1,1,cv2.BORDER_CONSTANT,value=0) #Padding\n",
    "\n",
    "gimg = corrfun(pimg, gkernel, 3,1,3) #Corrfun Gaussian\n",
    "cv2.imshow(\"Gaussian img\",gimg)\n",
    "cv2.waitKey(0)\n",
    "cv2.destroyAllWindows()"
   ]
  },
  {
   "cell_type": "markdown",
   "metadata": {},
   "source": [
    "#### Sharpening filter with kernel size 3 on Lena"
   ]
  },
  {
   "cell_type": "code",
   "execution_count": 116,
   "metadata": {},
   "outputs": [],
   "source": [
    "#our original padded image\n",
    "pimg= cv2.copyMakeBorder(img,1,1,1,1,cv2.BORDER_CONSTANT,value=0)\n",
    "#Getting details\n",
    "details= pimg - gimg \n",
    "\n",
    "#Adding details to the img\n",
    "sharpimg = pimg + 2*details\n",
    "cv2.imshow(\"Sharp img\",sharpimg)\n",
    "cv2.waitKey(0)\n",
    "cv2.destroyAllWindows()"
   ]
  },
  {
   "cell_type": "markdown",
   "metadata": {},
   "source": [
    "### Kernel size 5"
   ]
  },
  {
   "cell_type": "code",
   "execution_count": 79,
   "metadata": {},
   "outputs": [],
   "source": [
    "#preparing kernels\n",
    "avgkernel = np.ones((5, 5), dtype=np.float32)\n",
    "avgkernel /= 25\n",
    "gkernel = gkern(5,10)"
   ]
  },
  {
   "cell_type": "code",
   "execution_count": 80,
   "metadata": {},
   "outputs": [
    {
     "data": {
      "text/plain": [
       "(516, 516, 3)"
      ]
     },
     "execution_count": 80,
     "metadata": {},
     "output_type": "execute_result"
    }
   ],
   "source": [
    "pimg = np.zeros((512,512,3))\n",
    "pimg= cv2.copyMakeBorder(img,2,2,2,2,cv2.BORDER_CONSTANT,value=0) #Padding\n",
    "pimg.shape"
   ]
  },
  {
   "cell_type": "markdown",
   "metadata": {},
   "source": [
    "#### Mean filter with kernel size 5 on Lena"
   ]
  },
  {
   "cell_type": "code",
   "execution_count": 83,
   "metadata": {},
   "outputs": [],
   "source": [
    "\n",
    "avgimg = corrfun(pimg, avgkernel, 5,2,3) #Corrfun mean\n",
    "cv2.imshow(\"avg img\",avgimg)\n",
    "cv2.waitKey(0)\n",
    "cv2.destroyAllWindows()"
   ]
  },
  {
   "cell_type": "markdown",
   "metadata": {},
   "source": [
    "#### Gaussian filter with kernel size 5 on Lena"
   ]
  },
  {
   "cell_type": "code",
   "execution_count": 84,
   "metadata": {},
   "outputs": [],
   "source": [
    "pimg= cv2.copyMakeBorder(img,2,2,2,2,cv2.BORDER_CONSTANT,value=0) #Padding\n",
    "\n",
    "gimg = corrfun(pimg, gkernel, 5,2,3) #Corrfun Gaussian\n",
    "cv2.imshow(\"Gaussian img\",gimg)\n",
    "cv2.waitKey(0)\n",
    "cv2.destroyAllWindows()"
   ]
  },
  {
   "cell_type": "markdown",
   "metadata": {},
   "source": [
    "#### Sharpening filter with kernel size 5 on Lena"
   ]
  },
  {
   "cell_type": "code",
   "execution_count": 100,
   "metadata": {},
   "outputs": [],
   "source": [
    "#our original padded image\n",
    "pimg= cv2.copyMakeBorder(img,2,2,2,2,cv2.BORDER_CONSTANT,value=0)\n",
    "#Getting details\n",
    "details= pimg - gimg \n",
    "\n",
    "#Adding details to the img\n",
    "sharpimg = pimg + 2*details\n",
    "cv2.imshow(\"Sharp img\",sharpimg)\n",
    "cv2.waitKey(0)\n",
    "cv2.destroyAllWindows()"
   ]
  },
  {
   "cell_type": "markdown",
   "metadata": {},
   "source": [
    "### Kernel size 9"
   ]
  },
  {
   "cell_type": "code",
   "execution_count": 22,
   "metadata": {},
   "outputs": [],
   "source": [
    "#preparing kernels\n",
    "avgkernel = np.ones((9, 9), dtype=np.float32)\n",
    "avgkernel /= 81\n",
    "gkernel = gkern(9,10)"
   ]
  },
  {
   "cell_type": "code",
   "execution_count": 23,
   "metadata": {},
   "outputs": [
    {
     "data": {
      "text/plain": [
       "(520, 520, 3)"
      ]
     },
     "execution_count": 23,
     "metadata": {},
     "output_type": "execute_result"
    }
   ],
   "source": [
    "pimg = np.zeros((512,512,3))\n",
    "pimg= cv2.copyMakeBorder(img,4,4,4,4,cv2.BORDER_CONSTANT,value=0) #Padding\n",
    "pimg.shape"
   ]
  },
  {
   "cell_type": "markdown",
   "metadata": {},
   "source": [
    "#### Mean filter with kernel size 9 on Lena"
   ]
  },
  {
   "cell_type": "code",
   "execution_count": 24,
   "metadata": {},
   "outputs": [],
   "source": [
    "avgimg = corrfun(pimg, avgkernel, 9,4,3) #Corrfun mean\n",
    "cv2.imshow(\"avg img\",avgimg)\n",
    "cv2.waitKey(0)\n",
    "cv2.destroyAllWindows()"
   ]
  },
  {
   "cell_type": "markdown",
   "metadata": {},
   "source": [
    "#### Gaussian filter with kernel size 9 on Lena"
   ]
  },
  {
   "cell_type": "code",
   "execution_count": 25,
   "metadata": {},
   "outputs": [],
   "source": [
    "pimg= cv2.copyMakeBorder(img,4,4,4,4,cv2.BORDER_CONSTANT,value=0) #Padding\n",
    "\n",
    "gimg = corrfun(pimg, gkernel, 9,4,3) #Corrfun Gaussian\n",
    "cv2.imshow(\"Gaussian img\",gimg)\n",
    "cv2.waitKey(0)\n",
    "cv2.destroyAllWindows()"
   ]
  },
  {
   "cell_type": "markdown",
   "metadata": {},
   "source": [
    "#### Sharpening filter with kernel size 9 on Lena"
   ]
  },
  {
   "cell_type": "code",
   "execution_count": 26,
   "metadata": {},
   "outputs": [],
   "source": [
    "#our original padded image\n",
    "pimg= cv2.copyMakeBorder(img,4,4,4,4,cv2.BORDER_CONSTANT,value=0)\n",
    "#Getting details\n",
    "details= pimg - gimg \n",
    "\n",
    "#Adding details to the img\n",
    "sharpimg = pimg + 2*details\n",
    "cv2.imshow(\"Sharp img\",sharpimg)\n",
    "cv2.waitKey(0)\n",
    "cv2.destroyAllWindows()"
   ]
  },
  {
   "cell_type": "code",
   "execution_count": 30,
   "metadata": {},
   "outputs": [],
   "source": [
    "cv2.imshow(\"Details img\",details)\n",
    "cv2.waitKey(0)\n",
    "cv2.destroyAllWindows()"
   ]
  },
  {
   "cell_type": "code",
   "execution_count": null,
   "metadata": {},
   "outputs": [],
   "source": []
  },
  {
   "cell_type": "markdown",
   "metadata": {},
   "source": [
    "#### Sharpening filter with kernel size 5 on Lena"
   ]
  },
  {
   "cell_type": "code",
   "execution_count": 106,
   "metadata": {},
   "outputs": [],
   "source": [
    "cv2.imshow(\"details img\",details)\n",
    "cv2.waitKey(0)\n",
    "cv2.destroyAllWindows()"
   ]
  },
  {
   "cell_type": "markdown",
   "metadata": {},
   "source": [
    "## Part 2: Correlation,Convolutions - Mean & Median Filter on Art.png"
   ]
  },
  {
   "cell_type": "code",
   "execution_count": 5,
   "metadata": {},
   "outputs": [],
   "source": [
    "img = cv2.imread('art.png',0)"
   ]
  },
  {
   "cell_type": "code",
   "execution_count": 6,
   "metadata": {},
   "outputs": [],
   "source": [
    "cv2.imshow(\"Input image\",img)\n",
    "cv2.waitKey(0)\n",
    "cv2.destroyAllWindows()"
   ]
  },
  {
   "cell_type": "markdown",
   "metadata": {},
   "source": [
    "### Kernel size 3"
   ]
  },
  {
   "cell_type": "code",
   "execution_count": 126,
   "metadata": {},
   "outputs": [],
   "source": [
    "#preparing kernels\n",
    "avgkernel = np.ones((3, 3), dtype=np.float32)\n",
    "avgkernel /= 9\n",
    "gkernel = gkern(3,10)"
   ]
  },
  {
   "cell_type": "markdown",
   "metadata": {},
   "source": [
    "#### Correlation - Mean filter with kernel size 3 on Art"
   ]
  },
  {
   "cell_type": "code",
   "execution_count": 127,
   "metadata": {},
   "outputs": [],
   "source": [
    "pimg= cv2.copyMakeBorder(img,1,1,1,1,cv2.BORDER_CONSTANT,value=0) #Padding\n",
    "\n",
    "avgimg = corrfun(pimg, avgkernel, 3,1,1) #Corrfun mean\n",
    "cv2.imshow(\"avg img\",avgimg)\n",
    "cv2.waitKey(0)\n",
    "cv2.destroyAllWindows()"
   ]
  },
  {
   "cell_type": "markdown",
   "metadata": {},
   "source": [
    "#### Convolution - Mean filter with kernel size 3 on Art"
   ]
  },
  {
   "cell_type": "code",
   "execution_count": 128,
   "metadata": {},
   "outputs": [],
   "source": [
    "pimg= cv2.copyMakeBorder(img,1,1,1,1,cv2.BORDER_CONSTANT,value=0) #Padding\n",
    "\n",
    "avgimg = convfun(pimg, avgkernel, 3,1,1) #Corrfun mean\n",
    "cv2.imshow(\"avg img\",avgimg)\n",
    "cv2.waitKey(0)\n",
    "cv2.destroyAllWindows()"
   ]
  },
  {
   "cell_type": "markdown",
   "metadata": {},
   "source": [
    "#### Median Filter Kernel Size 3 on Art"
   ]
  },
  {
   "cell_type": "code",
   "execution_count": 131,
   "metadata": {},
   "outputs": [],
   "source": [
    "pimg= cv2.copyMakeBorder(img,1,1,1,1,cv2.BORDER_CONSTANT,value=0) #Padding\n",
    "medimg = median_filter(pimg,5)\n",
    "cv2.imshow(\"Median img\",medimg)\n",
    "cv2.waitKey(0)\n",
    "cv2.destroyAllWindows()"
   ]
  },
  {
   "cell_type": "markdown",
   "metadata": {},
   "source": [
    "### Kernel size 5"
   ]
  },
  {
   "cell_type": "code",
   "execution_count": 132,
   "metadata": {},
   "outputs": [],
   "source": [
    "#preparing kernels\n",
    "avgkernel = np.ones((5, 5), dtype=np.float32)\n",
    "avgkernel /= 25\n",
    "gkernel = gkern(5,10)"
   ]
  },
  {
   "cell_type": "markdown",
   "metadata": {},
   "source": [
    "#### Correlation - Mean filter with kernel size 5 on Art"
   ]
  },
  {
   "cell_type": "code",
   "execution_count": 133,
   "metadata": {},
   "outputs": [],
   "source": [
    "pimg= cv2.copyMakeBorder(img,2,2,2,2,cv2.BORDER_CONSTANT,value=0) #Padding\n",
    "\n",
    "avgimg = corrfun(pimg, avgkernel, 5,2,1) #Corrfun mean\n",
    "cv2.imshow(\"avg img\",avgimg)\n",
    "cv2.waitKey(0)\n",
    "cv2.destroyAllWindows()"
   ]
  },
  {
   "cell_type": "markdown",
   "metadata": {},
   "source": [
    "#### Convolution - Mean filter with kernel size 5 on Art"
   ]
  },
  {
   "cell_type": "code",
   "execution_count": 134,
   "metadata": {},
   "outputs": [],
   "source": [
    "pimg= cv2.copyMakeBorder(img,2,2,2,2,cv2.BORDER_CONSTANT,value=0) #Padding\n",
    "\n",
    "avgimg = convfun(pimg, avgkernel, 5,2,1) #Corrfun mean\n",
    "cv2.imshow(\"avg img\",avgimg)\n",
    "cv2.waitKey(0)\n",
    "cv2.destroyAllWindows()"
   ]
  },
  {
   "cell_type": "markdown",
   "metadata": {},
   "source": [
    "#### Median Filter- Kernel size 5 on Art"
   ]
  },
  {
   "cell_type": "code",
   "execution_count": 135,
   "metadata": {},
   "outputs": [],
   "source": [
    "pimg= cv2.copyMakeBorder(img,2,2,2,2,cv2.BORDER_CONSTANT,value=0) #Padding\n",
    "median_filter(pimg,5)\n",
    "cv2.imshow(\"Median img\",medimg)\n",
    "cv2.waitKey(0)\n",
    "cv2.destroyAllWindows()"
   ]
  },
  {
   "cell_type": "markdown",
   "metadata": {},
   "source": [
    "### Kernel size 9"
   ]
  },
  {
   "cell_type": "code",
   "execution_count": 2,
   "metadata": {},
   "outputs": [],
   "source": [
    "#preparing kernels\n",
    "avgkernel = np.ones((9, 9), dtype=np.float32)\n",
    "avgkernel /= 81\n",
    "gkernel = gkern(9,10)"
   ]
  },
  {
   "cell_type": "code",
   "execution_count": 3,
   "metadata": {},
   "outputs": [
    {
     "data": {
      "text/plain": [
       "array([[1.36196331e-29, 5.10633281e-23, 1.58338696e-18, 4.90210725e-16,\n",
       "        2.70689038e-15, 4.90210725e-16, 1.58338696e-18, 5.10633281e-23,\n",
       "        1.35209396e-29],\n",
       "       [5.10633281e-23, 1.91448878e-16, 5.93650411e-12, 1.83791963e-09,\n",
       "        1.01487926e-08, 1.83791963e-09, 5.93650411e-12, 1.91448878e-16,\n",
       "        5.06933022e-23],\n",
       "       [1.58338696e-18, 5.93650411e-12, 1.84080896e-07, 5.69907621e-05,\n",
       "        3.14696799e-04, 5.69907621e-05, 1.84080896e-07, 5.93650411e-12,\n",
       "        1.57191309e-18],\n",
       "       [4.90210725e-16, 1.83791963e-09, 5.69907621e-05, 1.76441284e-02,\n",
       "        9.74289606e-02, 1.76441284e-02, 5.69907621e-05, 1.83791964e-09,\n",
       "        4.86658456e-16],\n",
       "       [2.70689038e-15, 1.01487926e-08, 3.14696799e-04, 9.74289606e-02,\n",
       "        5.37992139e-01, 9.74289606e-02, 3.14696799e-04, 1.01487926e-08,\n",
       "        2.68727514e-15],\n",
       "       [4.90210725e-16, 1.83791963e-09, 5.69907621e-05, 1.76441284e-02,\n",
       "        9.74289606e-02, 1.76441284e-02, 5.69907621e-05, 1.83791964e-09,\n",
       "        4.86658456e-16],\n",
       "       [1.58338696e-18, 5.93650411e-12, 1.84080896e-07, 5.69907621e-05,\n",
       "        3.14696799e-04, 5.69907621e-05, 1.84080896e-07, 5.93650411e-12,\n",
       "        1.57191309e-18],\n",
       "       [5.10633281e-23, 1.91448878e-16, 5.93650411e-12, 1.83791964e-09,\n",
       "        1.01487926e-08, 1.83791964e-09, 5.93650411e-12, 1.91448878e-16,\n",
       "        5.06933022e-23],\n",
       "       [1.35209396e-29, 5.06933022e-23, 1.57191309e-18, 4.86658456e-16,\n",
       "        2.68727514e-15, 4.86658456e-16, 1.57191309e-18, 5.06933022e-23,\n",
       "        1.34229613e-29]])"
      ]
     },
     "execution_count": 3,
     "metadata": {},
     "output_type": "execute_result"
    }
   ],
   "source": [
    "gkernel"
   ]
  },
  {
   "cell_type": "markdown",
   "metadata": {},
   "source": [
    "#### Correlation - Mean filter with kernel size 9 on Art"
   ]
  },
  {
   "cell_type": "code",
   "execution_count": 7,
   "metadata": {},
   "outputs": [],
   "source": [
    "pimg= cv2.copyMakeBorder(img,4,4,4,4,cv2.BORDER_CONSTANT,value=0) #Padding\n",
    "\n",
    "avgimg = corrfun(pimg, avgkernel, 9,4,1) #Corrfun mean\n",
    "cv2.imshow(\"avg img\",avgimg)\n",
    "cv2.waitKey(0)\n",
    "cv2.destroyAllWindows()"
   ]
  },
  {
   "cell_type": "markdown",
   "metadata": {},
   "source": [
    "#### Convolution - Mean filter with kernel size 9 on Art"
   ]
  },
  {
   "cell_type": "code",
   "execution_count": 8,
   "metadata": {},
   "outputs": [],
   "source": [
    "pimg= cv2.copyMakeBorder(img,4,4,4,4,cv2.BORDER_CONSTANT,value=0) #Padding\n",
    "\n",
    "avgimg = convfun(pimg, avgkernel, 9,4,1) #Corrfun mean\n",
    "cv2.imshow(\"avg img\",avgimg)\n",
    "cv2.waitKey(0)\n",
    "cv2.destroyAllWindows()"
   ]
  },
  {
   "cell_type": "markdown",
   "metadata": {},
   "source": [
    "#### Median Filter Kernel Size 9 on Art"
   ]
  },
  {
   "cell_type": "code",
   "execution_count": 11,
   "metadata": {},
   "outputs": [],
   "source": [
    "pimg= cv2.copyMakeBorder(img,4,4,4,4,cv2.BORDER_CONSTANT,value=0) #Padding\n",
    "medimg = median_filter(pimg,9)\n",
    "cv2.imshow(\"Median img\",medimg)\n",
    "cv2.waitKey(0)\n",
    "cv2.destroyAllWindows()"
   ]
  },
  {
   "cell_type": "code",
   "execution_count": null,
   "metadata": {},
   "outputs": [],
   "source": []
  }
 ],
 "metadata": {
  "kernelspec": {
   "display_name": "Python 3",
   "language": "python",
   "name": "python3"
  },
  "language_info": {
   "codemirror_mode": {
    "name": "ipython",
    "version": 3
   },
   "file_extension": ".py",
   "mimetype": "text/x-python",
   "name": "python",
   "nbconvert_exporter": "python",
   "pygments_lexer": "ipython3",
   "version": "3.7.4"
  }
 },
 "nbformat": 4,
 "nbformat_minor": 4
}
